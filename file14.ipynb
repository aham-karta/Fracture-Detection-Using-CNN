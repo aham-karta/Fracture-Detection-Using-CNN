{
 "cells": [
  {
   "cell_type": "code",
   "execution_count": 17,
   "metadata": {},
   "outputs": [
    {
     "name": "stdout",
     "output_type": "stream",
     "text": [
      "Looking in indexes: https://download.pytorch.org/whl/cu118\n",
      "Requirement already satisfied: torch in c:\\users\\srisi\\onedrive\\desktop\\sidxt\\hub\\fracturecnn\\.venv\\lib\\site-packages (2.3.1+cu118)\n",
      "Requirement already satisfied: torchvision in c:\\users\\srisi\\onedrive\\desktop\\sidxt\\hub\\fracturecnn\\.venv\\lib\\site-packages (0.18.1+cu118)\n",
      "Requirement already satisfied: torchaudio in c:\\users\\srisi\\onedrive\\desktop\\sidxt\\hub\\fracturecnn\\.venv\\lib\\site-packages (2.3.1+cu118)\n",
      "Requirement already satisfied: filelock in c:\\users\\srisi\\onedrive\\desktop\\sidxt\\hub\\fracturecnn\\.venv\\lib\\site-packages (from torch) (3.13.1)\n",
      "Requirement already satisfied: typing-extensions>=4.8.0 in c:\\users\\srisi\\onedrive\\desktop\\sidxt\\hub\\fracturecnn\\.venv\\lib\\site-packages (from torch) (4.12.2)\n",
      "Requirement already satisfied: sympy in c:\\users\\srisi\\onedrive\\desktop\\sidxt\\hub\\fracturecnn\\.venv\\lib\\site-packages (from torch) (1.12)\n",
      "Requirement already satisfied: networkx in c:\\users\\srisi\\onedrive\\desktop\\sidxt\\hub\\fracturecnn\\.venv\\lib\\site-packages (from torch) (3.2.1)\n",
      "Requirement already satisfied: jinja2 in c:\\users\\srisi\\onedrive\\desktop\\sidxt\\hub\\fracturecnn\\.venv\\lib\\site-packages (from torch) (3.1.3)\n",
      "Requirement already satisfied: fsspec in c:\\users\\srisi\\onedrive\\desktop\\sidxt\\hub\\fracturecnn\\.venv\\lib\\site-packages (from torch) (2024.2.0)\n",
      "Requirement already satisfied: mkl<=2021.4.0,>=2021.1.1 in c:\\users\\srisi\\onedrive\\desktop\\sidxt\\hub\\fracturecnn\\.venv\\lib\\site-packages (from torch) (2021.4.0)\n",
      "Requirement already satisfied: numpy in c:\\users\\srisi\\onedrive\\desktop\\sidxt\\hub\\fracturecnn\\.venv\\lib\\site-packages (from torchvision) (1.26.3)\n",
      "Requirement already satisfied: pillow!=8.3.*,>=5.3.0 in c:\\users\\srisi\\onedrive\\desktop\\sidxt\\hub\\fracturecnn\\.venv\\lib\\site-packages (from torchvision) (10.2.0)\n",
      "Requirement already satisfied: intel-openmp==2021.* in c:\\users\\srisi\\onedrive\\desktop\\sidxt\\hub\\fracturecnn\\.venv\\lib\\site-packages (from mkl<=2021.4.0,>=2021.1.1->torch) (2021.4.0)\n",
      "Requirement already satisfied: tbb==2021.* in c:\\users\\srisi\\onedrive\\desktop\\sidxt\\hub\\fracturecnn\\.venv\\lib\\site-packages (from mkl<=2021.4.0,>=2021.1.1->torch) (2021.11.0)\n",
      "Requirement already satisfied: MarkupSafe>=2.0 in c:\\users\\srisi\\onedrive\\desktop\\sidxt\\hub\\fracturecnn\\.venv\\lib\\site-packages (from jinja2->torch) (2.1.5)\n",
      "Requirement already satisfied: mpmath>=0.19 in c:\\users\\srisi\\onedrive\\desktop\\sidxt\\hub\\fracturecnn\\.venv\\lib\\site-packages (from sympy->torch) (1.3.0)\n",
      "Note: you may need to restart the kernel to use updated packages.\n"
     ]
    },
    {
     "name": "stderr",
     "output_type": "stream",
     "text": [
      "\n",
      "[notice] A new release of pip is available: 24.0 -> 24.1\n",
      "[notice] To update, run: python.exe -m pip install --upgrade pip\n"
     ]
    }
   ],
   "source": [
    "%pip install torch torchvision torchaudio --index-url https://download.pytorch.org/whl/cu118"
   ]
  },
  {
   "cell_type": "code",
   "execution_count": 18,
   "metadata": {},
   "outputs": [],
   "source": [
    "import torch\n",
    "import torch.nn as nn\n",
    "import torch.optim as optim\n",
    "import torchvision\n",
    "from torchvision import datasets, transforms\n",
    "import torch.nn.functional as F"
   ]
  },
  {
   "cell_type": "code",
   "execution_count": 19,
   "metadata": {},
   "outputs": [],
   "source": [
    "transform = transforms.Compose([\n",
    "    transforms.Resize((224, 224)),\n",
    "    transforms.RandomHorizontalFlip(),\n",
    "    transforms.ToTensor(),\n",
    "    transforms.Normalize(mean=[0.485, 0.456, 0.406], std=[0.229, 0.224, 0.225])\n",
    "])\n",
    "\n",
    "train_data = datasets.ImageFolder('C:\\\\Users\\\\srisi\\\\OneDrive\\\\Desktop\\\\sidxt\\\\hub\\\\FractureCNN\\\\kaggle\\\\dataset\\\\train', transform=transform)\n",
    "test_data = datasets.ImageFolder('C:\\\\Users\\\\srisi\\\\OneDrive\\\\Desktop\\\\sidxt\\\\hub\\\\FractureCNN\\\\kaggle\\\\dataset\\\\test', transform=transform)\n",
    "val_data = datasets.ImageFolder('C:\\\\Users\\\\srisi\\\\OneDrive\\\\Desktop\\\\sidxt\\\\hub\\\\FractureCNN\\\\kaggle\\\\dataset\\\\val', transform=transform)\n",
    "\n",
    "train_loader = torch.utils.data.DataLoader(train_data, batch_size=32, shuffle=True)\n",
    "test_loader = torch.utils.data.DataLoader(test_data, batch_size=32, shuffle=False)\n",
    "val_loader = torch.utils.data.DataLoader(val_data, batch_size=32, shuffle=True)\n"
   ]
  },
  {
   "cell_type": "code",
   "execution_count": 20,
   "metadata": {},
   "outputs": [],
   "source": [
    "conv1 = nn.Conv2d(3, 32, 3)\n",
    "conv2 = nn.Conv2d(32, 64, 3)\n",
    "conv3 = nn.Conv2d(64, 128, 3)\n",
    "pool = nn.MaxPool2d(2)\n",
    "fc1 = nn.Linear(128 * 26 * 26, 256)\n",
    "fc2 = nn.Linear(256, 128)\n",
    "fc3 = nn.Linear(128, 1)\n",
    "dropout = nn.Dropout(0.3)\n",
    "\n",
    "\n",
    "device = torch.device(\"cuda\" if torch.cuda.is_available() else \"cpu\")\n",
    "conv1.to(device)\n",
    "conv2.to(device)\n",
    "conv3.to(device)\n",
    "fc1.to(device)\n",
    "fc2.to(device)\n",
    "fc3.to(device)\n",
    "pool.to(device)\n",
    "dropout.to(device)\n",
    "\n",
    "\n",
    "def forward(x):\n",
    "    x = pool(F.leaky_relu(conv1(x)))\n",
    "    x = dropout(x)\n",
    "    x = pool(F.leaky_relu(conv2(x)))\n",
    "    x = dropout(x)\n",
    "    x = pool(F.leaky_relu(conv3(x)))\n",
    "    x = dropout(x)\n",
    "    x = x.view(-1, 128 * 26 * 26)\n",
    "    x = F.leaky_relu(fc1(x))\n",
    "    x = dropout(x)\n",
    "    x = F.leaky_relu(fc2(x))\n",
    "    x = dropout(x)\n",
    "    x = torch.sigmoid(fc3(x))\n",
    "    return x\n",
    "criterion = nn.BCELoss()\n",
    "optimizer = optim.Adam(list(conv1.parameters()) + list(conv2.parameters()) + list(conv3.parameters()) + \n",
    "                       list(fc1.parameters()) + list(fc2.parameters()) + list(fc3.parameters()), lr=0.001)"
   ]
  },
  {
   "cell_type": "code",
   "execution_count": 21,
   "metadata": {},
   "outputs": [
    {
     "name": "stdout",
     "output_type": "stream",
     "text": [
      "epoch 1, loss: 0.688864739496232\n",
      "epoch 2, loss: 0.4587880041045967\n",
      "epoch 3, loss: 0.1993015060619683\n",
      "epoch 4, loss: 0.09929854154330497\n",
      "epoch 5, loss: 0.04200903795814762\n",
      "epoch 6, loss: 0.05170277208395249\n",
      "epoch 7, loss: 0.034726720715893895\n",
      "epoch 8, loss: 0.03988544266233708\n",
      "epoch 9, loss: 0.026251565403501355\n",
      "epoch 10, loss: 0.02059061631780071\n",
      "epoch 11, loss: 0.021156554580380727\n",
      "epoch 12, loss: 0.01952823551762903\n",
      "epoch 13, loss: 0.007995286864748739\n",
      "epoch 14, loss: 0.009291155921994849\n",
      "epoch 15, loss: 0.013742774269610153\n",
      "epoch 16, loss: 0.016588246367570114\n",
      "epoch 17, loss: 0.016303174611035615\n",
      "epoch 18, loss: 0.014402987953336244\n",
      "epoch 19, loss: 0.011176088380018436\n",
      "epoch 20, loss: 0.020819726253366682\n"
     ]
    }
   ],
   "source": [
    "for epoch in range(20):\n",
    "    running_loss = 0.0\n",
    "    for inputs, labels in train_loader:\n",
    "        inputs, labels = inputs.to(device), labels.to(device)\n",
    "        optimizer.zero_grad()\n",
    "        outputs = forward(inputs)\n",
    "        loss = criterion(outputs, labels.unsqueeze(1).float())\n",
    "        loss.backward()\n",
    "        optimizer.step()\n",
    "        running_loss += loss.item()\n",
    "    print(f\"epoch {epoch+1}, loss: {running_loss / len(train_loader)}\")\n"
   ]
  },
  {
   "cell_type": "code",
   "execution_count": 22,
   "metadata": {},
   "outputs": [
    {
     "name": "stdout",
     "output_type": "stream",
     "text": [
      "test accuracy: 98.24561403508773%\n"
     ]
    }
   ],
   "source": [
    "correct = 0\n",
    "total = 0\n",
    "with torch.no_grad():\n",
    "    for inputs, labels in test_loader:\n",
    "        inputs, labels = inputs.to(device), labels.to(device)\n",
    "        outputs = forward(inputs)\n",
    "        predicted = torch.round(outputs)\n",
    "        total += labels.size(0)\n",
    "        correct += (predicted == labels.unsqueeze(1)).sum().item()\n",
    "\n",
    "print(f\"test accuracy: {100 * correct / total}%\")"
   ]
  },
  {
   "cell_type": "code",
   "execution_count": 23,
   "metadata": {},
   "outputs": [],
   "source": [
    "torch.save({\n",
    "    'conv1_state_dict': conv1.state_dict(),\n",
    "    'conv2_state_dict': conv2.state_dict(),\n",
    "    'conv3_state_dict': conv3.state_dict(),\n",
    "    'fc1_state_dict': fc1.state_dict(),\n",
    "    'fc2_state_dict': fc2.state_dict(),\n",
    "    'fc3_state_dict': fc3.state_dict(),\n",
    "    'optimizer_state_dict': optimizer.state_dict()\n",
    "}, 'main3.pth')"
   ]
  },
  {
   "cell_type": "code",
   "execution_count": 24,
   "metadata": {},
   "outputs": [
    {
     "name": "stdout",
     "output_type": "stream",
     "text": [
      "Test Accuracy: 98.24561403508773%\n",
      "Precision: 0.961352657004831\n",
      "Recall: 0.995\n",
      "F1 Score: 0.9778869778869779\n"
     ]
    }
   ],
   "source": [
    "from sklearn.metrics import precision_recall_fscore_support\n",
    "all_labels = []\n",
    "all_predictions = []\n",
    "\n",
    "with torch.no_grad():\n",
    "    for inputs, labels in test_loader:\n",
    "        inputs, labels = inputs.to(device), labels.to(device)\n",
    "        outputs = forward(inputs)\n",
    "        predicted = torch.round(outputs)\n",
    "        all_labels.extend(labels.cpu().numpy())\n",
    "        all_predictions.extend(predicted.cpu().numpy())\n",
    "precision, recall, f1, _ = precision_recall_fscore_support(all_labels, all_predictions, average='binary')\n",
    "\n",
    "print(f\"Test Accuracy: {100 * correct / total}%\")\n",
    "print(f\"Precision: {precision}\")\n",
    "print(f\"Recall: {recall}\")\n",
    "print(f\"F1 Score: {f1}\")\n"
   ]
  }
 ],
 "metadata": {
  "kernelspec": {
   "display_name": ".venv",
   "language": "python",
   "name": "python3"
  },
  "language_info": {
   "codemirror_mode": {
    "name": "ipython",
    "version": 3
   },
   "file_extension": ".py",
   "mimetype": "text/x-python",
   "name": "python",
   "nbconvert_exporter": "python",
   "pygments_lexer": "ipython3",
   "version": "3.9.11"
  }
 },
 "nbformat": 4,
 "nbformat_minor": 2
}
