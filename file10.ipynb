{
 "cells": [
  {
   "cell_type": "code",
   "execution_count": 22,
   "metadata": {},
   "outputs": [],
   "source": [
    "import torch\n",
    "import torch.nn as nn\n",
    "import torch.optim as optim\n",
    "import torchvision\n",
    "from torchvision import datasets, transforms\n",
    "import torch.nn.functional as F"
   ]
  },
  {
   "cell_type": "code",
   "execution_count": 23,
   "metadata": {},
   "outputs": [],
   "source": [
    "transform = transforms.Compose([\n",
    "    transforms.Resize((224, 224)),\n",
    "    transforms.RandomHorizontalFlip(),\n",
    "    transforms.ToTensor(),\n",
    "    transforms.Normalize(mean=[0.485, 0.456, 0.406], std=[0.229, 0.224, 0.225])\n",
    "])\n",
    "\n",
    "train_data = datasets.ImageFolder('C:\\\\Users\\\\srisi\\\\OneDrive\\\\Desktop\\\\sidxt\\\\hub\\\\FractureCNN\\\\kaggle\\\\dataset\\\\test', transform=transform)\n",
    "test_data = datasets.ImageFolder('C:\\\\Users\\\\srisi\\\\OneDrive\\\\Desktop\\\\sidxt\\\\hub\\\\FractureCNN\\\\kaggle\\\\dataset\\\\test', transform=transform)\n",
    "val_data = datasets.ImageFolder('C:\\\\Users\\\\srisi\\\\OneDrive\\\\Desktop\\\\sidxt\\\\hub\\\\FractureCNN\\\\kaggle\\\\dataset\\\\test', transform=transform)\n",
    "\n",
    "train_loader = torch.utils.data.DataLoader(train_data, batch_size=32, shuffle=True)\n",
    "test_loader = torch.utils.data.DataLoader(test_data, batch_size=32, shuffle=False)\n",
    "val_loader = torch.utils.data.DataLoader(val_data, batch_size=32, shuffle=True)\n"
   ]
  },
  {
   "cell_type": "code",
   "execution_count": 24,
   "metadata": {},
   "outputs": [],
   "source": [
    "conv1 = nn.Conv2d(3, 32, 3)\n",
    "conv2 = nn.Conv2d(32, 64, 3)\n",
    "conv3 = nn.Conv2d(64, 128, 3)\n",
    "fc1 = nn.Linear(128 * 26 * 26, 256)\n",
    "fc2 = nn.Linear(256, 128)\n",
    "fc3 = nn.Linear(128, 1)\n",
    "pool = nn.MaxPool2d(2)\n",
    "dropout = nn.Dropout(0.3)\n",
    "\n",
    "\n",
    "device = torch.device(\"cuda\" if torch.cuda.is_available() else \"cpu\")\n",
    "conv1.to(device)\n",
    "conv2.to(device)\n",
    "conv3.to(device)\n",
    "fc1.to(device)\n",
    "fc2.to(device)\n",
    "fc3.to(device)\n",
    "pool.to(device)\n",
    "dropout.to(device)\n",
    "\n",
    "\n",
    "def forward(x):\n",
    "    x = pool(F.relu(conv1(x)))\n",
    "    x = dropout(x)\n",
    "    x = pool(F.relu(conv2(x)))\n",
    "    x = dropout(x)\n",
    "    x = pool(F.relu(conv3(x)))\n",
    "    x = dropout(x)\n",
    "    x = x.view(-1, 128 * 26 * 26)\n",
    "    x = F.relu(fc1(x))\n",
    "    x = dropout(x)\n",
    "    x = F.relu(fc2(x))\n",
    "    x = dropout(x)\n",
    "    x = torch.sigmoid(fc3(x))\n",
    "    return x\n",
    "criterion = nn.BCELoss()\n",
    "optimizer = optim.Adam(list(conv1.parameters()) + list(conv2.parameters()) + list(conv3.parameters()) + \n",
    "                       list(fc1.parameters()) + list(fc2.parameters()) + list(fc3.parameters()), lr=0.001)"
   ]
  },
  {
   "cell_type": "code",
   "execution_count": 25,
   "metadata": {},
   "outputs": [
    {
     "name": "stdout",
     "output_type": "stream",
     "text": [
      "epoch 1, loss: 0.9030221563119155\n",
      "epoch 2, loss: 0.6935081802881681\n",
      "epoch 3, loss: 0.6927058513347919\n",
      "epoch 4, loss: 0.6905333124674283\n",
      "epoch 5, loss: 0.6787648705335764\n",
      "epoch 6, loss: 0.6617068373239957\n",
      "epoch 7, loss: 0.6420955428710351\n",
      "epoch 8, loss: 0.64426700426982\n",
      "epoch 9, loss: 0.6120319595703712\n",
      "epoch 10, loss: 0.6242544421782861\n",
      "epoch 11, loss: 0.537696143755546\n",
      "epoch 12, loss: 0.5293963964168842\n",
      "epoch 13, loss: 0.4869264868589548\n",
      "epoch 14, loss: 0.4385961408798511\n",
      "epoch 15, loss: 0.3392409636424138\n",
      "epoch 16, loss: 0.3517988392939934\n",
      "epoch 17, loss: 0.286723045202402\n",
      "epoch 18, loss: 0.2105516533438976\n",
      "epoch 19, loss: 0.1656976342201233\n",
      "epoch 20, loss: 0.18893020542768332\n"
     ]
    }
   ],
   "source": [
    "for epoch in range(15):\n",
    "    running_loss = 0.0\n",
    "    for inputs, labels in train_loader:\n",
    "        inputs, labels = inputs.to(device), labels.to(device)\n",
    "        optimizer.zero_grad()\n",
    "        outputs = forward(inputs)\n",
    "        loss = criterion(outputs, labels.unsqueeze(1).float())\n",
    "        loss.backward()\n",
    "        optimizer.step()\n",
    "        running_loss += loss.item()\n",
    "    print(f\"epoch {epoch+1}, loss: {running_loss / len(train_loader)}\")\n"
   ]
  },
  {
   "cell_type": "code",
   "execution_count": 26,
   "metadata": {},
   "outputs": [
    {
     "name": "stdout",
     "output_type": "stream",
     "text": [
      "test accuracy: 94.23558897243107%\n"
     ]
    }
   ],
   "source": [
    "correct = 0\n",
    "total = 0\n",
    "with torch.no_grad():\n",
    "    for inputs, labels in test_loader:\n",
    "        inputs, labels = inputs.to(device), labels.to(device)\n",
    "        outputs = forward(inputs)\n",
    "        predicted = torch.round(outputs)\n",
    "        total += labels.size(0)\n",
    "        correct += (predicted == labels.unsqueeze(1)).sum().item()\n",
    "\n",
    "print(f\"test accuracy: {100 * correct / total}%\")"
   ]
  },
  {
   "cell_type": "code",
   "execution_count": 27,
   "metadata": {},
   "outputs": [],
   "source": [
    "torch.save({\n",
    "    'conv1_state_dict': conv1.state_dict(),\n",
    "    'conv2_state_dict': conv2.state_dict(),\n",
    "    'conv3_state_dict': conv3.state_dict(),\n",
    "    'fc1_state_dict': fc1.state_dict(),\n",
    "    'fc2_state_dict': fc2.state_dict(),\n",
    "    'fc3_state_dict': fc3.state_dict(),\n",
    "    'optimizer_state_dict': optimizer.state_dict()\n",
    "}, 'main1.pth')"
   ]
  },
  {
   "cell_type": "code",
   "execution_count": 28,
   "metadata": {},
   "outputs": [
    {
     "name": "stdout",
     "output_type": "stream",
     "text": [
      "Test Accuracy: 94.23558897243107%\n",
      "Precision: 0.945273631840796\n",
      "Recall: 0.95\n",
      "F1 Score: 0.9476309226932669\n"
     ]
    }
   ],
   "source": [
    "from sklearn.metrics import precision_recall_fscore_support\n",
    "all_labels = []\n",
    "all_predictions = []\n",
    "\n",
    "with torch.no_grad():\n",
    "    for inputs, labels in test_loader:\n",
    "        inputs, labels = inputs.to(device), labels.to(device)\n",
    "        outputs = forward(inputs)\n",
    "        predicted = torch.round(outputs)\n",
    "        all_labels.extend(labels.cpu().numpy())\n",
    "        all_predictions.extend(predicted.cpu().numpy())\n",
    "precision, recall, f1, _ = precision_recall_fscore_support(all_labels, all_predictions, average='binary')\n",
    "\n",
    "print(f\"Test Accuracy: {100 * correct / total}%\")\n",
    "print(f\"Precision: {precision}\")\n",
    "print(f\"Recall: {recall}\")\n",
    "print(f\"F1 Score: {f1}\")\n"
   ]
  }
 ],
 "metadata": {
  "kernelspec": {
   "display_name": ".venv",
   "language": "python",
   "name": "python3"
  },
  "language_info": {
   "codemirror_mode": {
    "name": "ipython",
    "version": 3
   },
   "file_extension": ".py",
   "mimetype": "text/x-python",
   "name": "python",
   "nbconvert_exporter": "python",
   "pygments_lexer": "ipython3",
   "version": "3.9.11"
  }
 },
 "nbformat": 4,
 "nbformat_minor": 2
}
