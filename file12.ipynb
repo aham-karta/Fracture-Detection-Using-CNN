{
 "cells": [
  {
   "cell_type": "code",
   "execution_count": 29,
   "metadata": {},
   "outputs": [],
   "source": [
    "import torch\n",
    "import torch.nn as nn\n",
    "import torch.optim as optim\n",
    "import torchvision\n",
    "from torchvision import datasets, transforms\n",
    "import torch.nn.functional as F"
   ]
  },
  {
   "cell_type": "code",
   "execution_count": 30,
   "metadata": {},
   "outputs": [],
   "source": [
    "transform = transforms.Compose([\n",
    "    transforms.Resize((224, 224)),\n",
    "    transforms.RandomHorizontalFlip(),\n",
    "    transforms.ToTensor(),\n",
    "    transforms.Normalize(mean=[0.485, 0.456, 0.406], std=[0.229, 0.224, 0.225])\n",
    "])\n",
    "\n",
    "train_data = datasets.ImageFolder('C:\\\\Users\\\\srisi\\\\OneDrive\\\\Desktop\\\\sidxt\\\\hub\\\\FractureCNN\\\\kaggle\\\\dataset\\\\train', transform=transform)\n",
    "test_data = datasets.ImageFolder('C:\\\\Users\\\\srisi\\\\OneDrive\\\\Desktop\\\\sidxt\\\\hub\\\\FractureCNN\\\\kaggle\\\\dataset\\\\test', transform=transform)\n",
    "val_data = datasets.ImageFolder('C:\\\\Users\\\\srisi\\\\OneDrive\\\\Desktop\\\\sidxt\\\\hub\\\\FractureCNN\\\\kaggle\\\\dataset\\\\val', transform=transform)\n",
    "\n",
    "train_loader = torch.utils.data.DataLoader(train_data, batch_size=32, shuffle=True)\n",
    "test_loader = torch.utils.data.DataLoader(test_data, batch_size=32, shuffle=False)\n",
    "val_loader = torch.utils.data.DataLoader(val_data, batch_size=32, shuffle=True)\n"
   ]
  },
  {
   "cell_type": "code",
   "execution_count": 31,
   "metadata": {},
   "outputs": [],
   "source": [
    "conv1 = nn.Conv2d(3, 32, 3)\n",
    "prelu1 = nn.PReLU(init=0.25)\n",
    "conv2 = nn.Conv2d(32, 64, 3)\n",
    "prelu2 = nn.PReLU(init=0.25)\n",
    "conv3 = nn.Conv2d(64, 128, 3)\n",
    "prelu3 = nn.PReLU(init=0.25)\n",
    "pool = nn.MaxPool2d(2)\n",
    "fc1 = nn.Linear(128 * 26 * 26, 256)\n",
    "prelu4 = nn.PReLU(init=0.25)\n",
    "fc2 = nn.Linear(256, 128)\n",
    "prelu5 = nn.PReLU(init=0.25)\n",
    "fc3 = nn.Linear(128, 1)\n",
    "dropout = nn.Dropout(0.3)\n",
    "\n",
    "device = torch.device(\"cuda\" if torch.cuda.is_available() else \"cpu\")\n",
    "conv1.to(device)\n",
    "conv2.to(device)\n",
    "conv3.to(device)\n",
    "fc1.to(device)\n",
    "fc2.to(device)\n",
    "fc3.to(device)\n",
    "pool.to(device)\n",
    "dropout.to(device)\n",
    "prelu1.to(device)\n",
    "prelu2.to(device)\n",
    "prelu3.to(device)\n",
    "prelu4.to(device)\n",
    "prelu5.to(device)\n",
    "\n",
    "def forward(x):\n",
    "    x = pool(prelu1(conv1(x)))\n",
    "    x = dropout(x)\n",
    "    x = pool(prelu2(conv2(x)))\n",
    "    x = dropout(x)\n",
    "    x = pool(prelu3(conv3(x)))\n",
    "    x = dropout(x)\n",
    "    x = x.view(-1, 128 * 26 * 26)\n",
    "    x = prelu4(fc1(x))\n",
    "    x = dropout(x)\n",
    "    x = prelu5(fc2(x))\n",
    "    x = dropout(x)\n",
    "    x = torch.sigmoid(fc3(x))\n",
    "    return x\n",
    "\n",
    "criterion = nn.BCELoss()\n",
    "optimizer = optim.Adam(list(conv1.parameters()) + list(conv2.parameters()) + list(conv3.parameters()) + \n",
    "                       list(fc1.parameters()) + list(fc2.parameters()) + list(fc3.parameters()), lr=0.001)\n"
   ]
  },
  {
   "cell_type": "code",
   "execution_count": 32,
   "metadata": {},
   "outputs": [
    {
     "name": "stdout",
     "output_type": "stream",
     "text": [
      "epoch 1, loss: 0.6815694315257923\n",
      "epoch 2, loss: 0.38012057589006054\n",
      "epoch 3, loss: 0.21670141190474548\n",
      "epoch 4, loss: 0.12710478982891232\n",
      "epoch 5, loss: 0.12467258466162191\n",
      "epoch 6, loss: 0.08428433368643563\n",
      "epoch 7, loss: 0.07261634826012202\n",
      "epoch 8, loss: 0.04732488099460405\n",
      "epoch 9, loss: 0.0495219483926248\n",
      "epoch 10, loss: 0.05128408283981588\n"
     ]
    }
   ],
   "source": [
    "for epoch in range(15):\n",
    "    running_loss = 0.0\n",
    "    for inputs, labels in train_loader:\n",
    "        inputs, labels = inputs.to(device), labels.to(device)\n",
    "        optimizer.zero_grad()\n",
    "        outputs = forward(inputs)\n",
    "        loss = criterion(outputs, labels.unsqueeze(1).float())\n",
    "        loss.backward()\n",
    "        optimizer.step()\n",
    "        running_loss += loss.item()\n",
    "    print(f\"epoch {epoch+1}, loss: {running_loss / len(train_loader)}\")\n"
   ]
  },
  {
   "cell_type": "code",
   "execution_count": 33,
   "metadata": {},
   "outputs": [
    {
     "name": "stdout",
     "output_type": "stream",
     "text": [
      "test accuracy: 96.74185463659148%\n"
     ]
    }
   ],
   "source": [
    "correct = 0\n",
    "total = 0\n",
    "with torch.no_grad():\n",
    "    for inputs, labels in test_loader:\n",
    "        inputs, labels = inputs.to(device), labels.to(device)\n",
    "        outputs = forward(inputs)\n",
    "        predicted = torch.round(outputs)\n",
    "        total += labels.size(0)\n",
    "        correct += (predicted == labels.unsqueeze(1)).sum().item()\n",
    "\n",
    "print(f\"test accuracy: {100 * correct / total}%\")"
   ]
  },
  {
   "cell_type": "code",
   "execution_count": 34,
   "metadata": {},
   "outputs": [],
   "source": [
    "torch.save({\n",
    "    'conv1_state_dict': conv1.state_dict(),\n",
    "    'conv2_state_dict': conv2.state_dict(),\n",
    "    'conv3_state_dict': conv3.state_dict(),\n",
    "    'fc1_state_dict': fc1.state_dict(),\n",
    "    'fc2_state_dict': fc2.state_dict(),\n",
    "    'fc3_state_dict': fc3.state_dict(),\n",
    "    'optimizer_state_dict': optimizer.state_dict()\n",
    "}, 'main.pth')"
   ]
  },
  {
   "cell_type": "code",
   "execution_count": 35,
   "metadata": {},
   "outputs": [
    {
     "name": "stdout",
     "output_type": "stream",
     "text": [
      "Test Accuracy: 96.74185463659148%\n",
      "Precision: 0.985\n",
      "Recall: 0.985\n",
      "F1 Score: 0.985\n"
     ]
    }
   ],
   "source": [
    "from sklearn.metrics import precision_recall_fscore_support\n",
    "all_labels = []\n",
    "all_predictions = []\n",
    "\n",
    "with torch.no_grad():\n",
    "    for inputs, labels in test_loader:\n",
    "        inputs, labels = inputs.to(device), labels.to(device)\n",
    "        outputs = forward(inputs)\n",
    "        predicted = torch.round(outputs)\n",
    "        all_labels.extend(labels.cpu().numpy())\n",
    "        all_predictions.extend(predicted.cpu().numpy())\n",
    "precision, recall, f1, _ = precision_recall_fscore_support(all_labels, all_predictions, average='binary')\n",
    "\n",
    "print(f\"Test Accuracy: {100 * correct / total}%\")\n",
    "print(f\"Precision: {precision}\")\n",
    "print(f\"Recall: {recall}\")\n",
    "print(f\"F1 Score: {f1}\")\n"
   ]
  }
 ],
 "metadata": {
  "kernelspec": {
   "display_name": ".venv",
   "language": "python",
   "name": "python3"
  },
  "language_info": {
   "codemirror_mode": {
    "name": "ipython",
    "version": 3
   },
   "file_extension": ".py",
   "mimetype": "text/x-python",
   "name": "python",
   "nbconvert_exporter": "python",
   "pygments_lexer": "ipython3",
   "version": "3.9.11"
  }
 },
 "nbformat": 4,
 "nbformat_minor": 2
}
