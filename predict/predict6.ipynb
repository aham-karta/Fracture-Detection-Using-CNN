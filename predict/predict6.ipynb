{
 "cells": [
  {
   "cell_type": "code",
   "execution_count": null,
   "metadata": {},
   "outputs": [],
   "source": [
    "#giving good output but partially working on images from web"
   ]
  },
  {
   "cell_type": "code",
   "execution_count": 4,
   "metadata": {},
   "outputs": [
    {
     "name": "stderr",
     "output_type": "stream",
     "text": [
      "c:\\Users\\srisi\\OneDrive\\Desktop\\sidxt\\hub\\FractureCNN\\.venv\\lib\\site-packages\\torchvision\\models\\_utils.py:208: UserWarning: The parameter 'pretrained' is deprecated since 0.13 and may be removed in the future, please use 'weights' instead.\n",
      "  warnings.warn(\n",
      "c:\\Users\\srisi\\OneDrive\\Desktop\\sidxt\\hub\\FractureCNN\\.venv\\lib\\site-packages\\torchvision\\models\\_utils.py:223: UserWarning: Arguments other than a weight enum or `None` for 'weights' are deprecated since 0.13 and may be removed in the future. The current behavior is equivalent to passing `weights=None`.\n",
      "  warnings.warn(msg)\n"
     ]
    },
    {
     "name": "stdout",
     "output_type": "stream",
     "text": [
      "\n",
      "Fracture\n"
     ]
    }
   ],
   "source": [
    "import torch\n",
    "import torch.nn as nn\n",
    "from torchvision import transforms\n",
    "from PIL import Image\n",
    "import torch\n",
    "import torch.nn as nn\n",
    "import torchvision.models as models\n",
    "\n",
    "def load_model(model_path):\n",
    "    checkpoint = torch.load(model_path, map_location=torch.device('cpu'))\n",
    "    model = models.resnet50(pretrained=False) \n",
    "    num_ftrs = model.fc.in_features\n",
    "    model.fc = nn.Linear(num_ftrs, 2) \n",
    "    \n",
    "    model.load_state_dict(checkpoint['model_state_dict'])\n",
    "    model.eval() \n",
    "    return model\n",
    "\n",
    "\n",
    "def prepare_image(image_path):\n",
    "    transform = transforms.Compose([\n",
    "        transforms.Resize((224, 224)),  \n",
    "        transforms.ToTensor(),\n",
    "        transforms.Normalize(mean=[0.485, 0.456, 0.406], std=[0.229, 0.224, 0.225])\n",
    "    ])\n",
    "    \n",
    "    image = Image.open(image_path).convert('RGB')  \n",
    "    image = transform(image)  \n",
    "    image = image.unsqueeze(0) \n",
    "    return image\n",
    "\n",
    "def evaluate_model_on_single_image(model, image):\n",
    "    with torch.no_grad():  \n",
    "        output = model(image)\n",
    "        _, predicted = torch.max(output.data, 1)\n",
    "        return predicted.item()\n",
    "\n",
    "if __name__ == \"__main__\":\n",
    "    model_path = 'C:\\\\Users\\\\srisi\\\\OneDrive\\\\Desktop\\\\sidxt\\\\hub\\\\FractureCNN\\\\main6.pth' \n",
    "    image_path = 'C:\\\\Users\\\\srisi\\\\OneDrive\\\\Desktop\\\\sidxt\\\\hub\\\\FractureCNN\\\\kaggle\\\\dataset\\\\test\\\\fractured\\\\9-rotated1-rotated3 - Copy.jpg' \n",
    "    \n",
    "    model = load_model(model_path)\n",
    "    image = prepare_image(image_path)\n",
    "    predicted_class = evaluate_model_on_single_image(model, image)\n",
    "    if predicted_class == 1:\n",
    "            print(\"\\nNo Fracture\")\n",
    "    else:\n",
    "        print(\"\\nFracture\")\n"
   ]
  }
 ],
 "metadata": {
  "kernelspec": {
   "display_name": ".venv",
   "language": "python",
   "name": "python3"
  },
  "language_info": {
   "codemirror_mode": {
    "name": "ipython",
    "version": 3
   },
   "file_extension": ".py",
   "mimetype": "text/x-python",
   "name": "python",
   "nbconvert_exporter": "python",
   "pygments_lexer": "ipython3",
   "version": "3.9.11"
  }
 },
 "nbformat": 4,
 "nbformat_minor": 2
}
